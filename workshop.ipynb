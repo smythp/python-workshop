{
 "cells": [
  {
   "cell_type": "code",
   "execution_count": null,
   "metadata": {
    "collapsed": true
   },
   "outputs": [],
   "source": [
    "# %load hello.py\n",
    "# Your first program\n",
    "\n",
    "print('Hello world!')"
   ]
  },
  {
   "cell_type": "code",
   "execution_count": null,
   "metadata": {
    "collapsed": true
   },
   "outputs": [],
   "source": [
    "# %load math.py\n",
    "# Basic math\n",
    "\n",
    "print(2 + 2) # Add\n",
    "print(200 - 55) # Subtract\n",
    "print(5 * 4) # Multiply\n",
    "print(144 / 12) # Divide\n",
    "print(11 % 2) # Mod (gives remainder)\n",
    "print(10 ** 2) # Exponent\n",
    "\n",
    "# <- These hash marks denote comments. Comments (lines beginning with a hash) aren't used when you run your program, and are useful for providing descriptions\n"
   ]
  },
  {
   "cell_type": "code",
   "execution_count": 9,
   "metadata": {
    "collapsed": false
   },
   "outputs": [
    {
     "name": "stdout",
     "output_type": "stream",
     "text": [
      "Mary had a little lamb,\n",
      "Its fleece was white as snow,\n",
      "And everyhere that Mary went,\n",
      "The lamb was sure to go.\n"
     ]
    }
   ],
   "source": [
    "# %load multi-line-string.py\n",
    "# Print a string on multiple lines\n",
    "\n",
    "print('''Mary had a little lamb,\n",
    "Its fleece was white as snow,\n",
    "And everyhere that Mary went,\n",
    "The lamb was sure to go.''')\n",
    "\n",
    "# You can use these characters to start and end strings:\n",
    "# Single quote: '\n",
    "# Double quote: \"\n",
    "# Triple quote: ''' (can be used for multiline string)\n",
    "\n",
    "# Don't mix and match! Always have the same mark at the start and end of your string\n"
   ]
  },
  {
   "cell_type": "code",
   "execution_count": 4,
   "metadata": {
    "collapsed": false
   },
   "outputs": [
    {
     "name": "stdout",
     "output_type": "stream",
     "text": [
      "<type 'str'>\n",
      "<type 'int'>\n",
      "<type 'float'>\n",
      "2\n",
      "2.2\n"
     ]
    }
   ],
   "source": [
    "# %load types.py\n",
    "# Types\n",
    "\n",
    "# A string is a set of characters, which can be letters, spaces, numbers, and special characters.\n",
    "\n",
    "print(type(\"I'm a string! I'm the first type you learned.\"))\n",
    "\n",
    "# Integers are numbers without decimal places\n",
    "\n",
    "print(type(5))\n",
    "\n",
    "# Floating point numbers (floats) are numbers with decimal places\n",
    "\n",
    "print(type(10.0))\n",
    "\n",
    "# If you want more precise answers, use floats\n",
    "\n",
    "print(11 / 5)\n",
    "print(11.0 / 5.0)\n"
   ]
  },
  {
   "cell_type": "code",
   "execution_count": 6,
   "metadata": {
    "collapsed": false
   },
   "outputs": [
    {
     "name": "stdout",
     "output_type": "stream",
     "text": [
      "5.75\n"
     ]
    }
   ],
   "source": [
    "# %load variables.py\n",
    "# Variables\n",
    "\n",
    "lemonade_price = 0.25\n",
    "glasses_sold = 23\n",
    "\n",
    "profit = lemonade_price * glasses_sold\n",
    "\n",
    "print(profit)\n",
    "\n",
    "# Variable names can have letters, numbers, and certain special characters, such as underscore (_)\n",
    "\n",
    "# Make your variable names as descriptive as possible\n",
    "\n",
    "# The equals sign (=) assigns a variable name to a string, integer, float, or other data type\n"
   ]
  },
  {
   "cell_type": "code",
   "execution_count": 8,
   "metadata": {
    "collapsed": false,
    "scrolled": false
   },
   "outputs": [
    {
     "name": "stdout",
     "output_type": "stream",
     "text": [
      "30\n",
      "I like Python!\n",
      "Banana\n"
     ]
    }
   ],
   "source": [
    "# %load len-and-strings.py\n",
    "# Len()\n",
    "\n",
    "# The len() function can tell you how many characters is in a string. Later, we'll see it can return the number of items in a list.\n",
    "\n",
    "print(len('How many characters long am I?'))\n",
    "\n",
    "# You can use some math operations on strings\n",
    "\n",
    "print(\"I like \" + \"Python!\")\n",
    "\n",
    "print(\"Ba\" + \"na\" * 2)\n"
   ]
  },
  {
   "cell_type": "code",
   "execution_count": null,
   "metadata": {
    "collapsed": true
   },
   "outputs": [],
   "source": [
    "while 1:\n",
    "    print('Oh no!')"
   ]
  }
 ],
 "metadata": {
  "kernelspec": {
   "display_name": "Python 2",
   "language": "python",
   "name": "python2"
  },
  "language_info": {
   "codemirror_mode": {
    "name": "ipython",
    "version": 2
   },
   "file_extension": ".py",
   "mimetype": "text/x-python",
   "name": "python",
   "nbconvert_exporter": "python",
   "pygments_lexer": "ipython2",
   "version": "2.7.6"
  }
 },
 "nbformat": 4,
 "nbformat_minor": 0
}
